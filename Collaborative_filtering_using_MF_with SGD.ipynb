{
 "cells": [
  {
   "cell_type": "markdown",
   "metadata": {
    "colab_type": "text",
    "id": "oaID7e2U0AAY"
   },
   "source": [
    "# Importing Libraries"
   ]
  },
  {
   "cell_type": "code",
   "execution_count": 0,
   "metadata": {
    "colab": {},
    "colab_type": "code",
    "id": "ItfmQPbB0AAZ"
   },
   "outputs": [],
   "source": [
    "import numpy as np  #importing numerical python library for mathematical functions\n",
    "import pandas as pd  #importing python data analysis library "
   ]
  },
  {
   "cell_type": "markdown",
   "metadata": {
    "colab_type": "text",
    "id": "wbqRIXgy0AAd"
   },
   "source": [
    "# Importing Data"
   ]
  },
  {
   "cell_type": "markdown",
   "metadata": {
    "colab_type": "text",
    "id": "mrEPpg8Z0AAd"
   },
   "source": [
    "<center> Dataset Explanation </center> <br>\n",
    "This is dataset comprising of ratings given to musical instruments on the amazon website. <br>\n",
    "The dataset comprises of user-id, item-id, ratings and timestamp. "
   ]
  },
  {
   "cell_type": "code",
   "execution_count": 0,
   "metadata": {
    "colab": {},
    "colab_type": "code",
    "id": "penIotc80AAe",
    "outputId": "2789c82f-3062-4a22-d42d-ca271877e183"
   },
   "outputs": [
    {
     "data": {
      "text/html": [
       "<div>\n",
       "<style scoped>\n",
       "    .dataframe tbody tr th:only-of-type {\n",
       "        vertical-align: middle;\n",
       "    }\n",
       "\n",
       "    .dataframe tbody tr th {\n",
       "        vertical-align: top;\n",
       "    }\n",
       "\n",
       "    .dataframe thead th {\n",
       "        text-align: right;\n",
       "    }\n",
       "</style>\n",
       "<table border=\"1\" class=\"dataframe\">\n",
       "  <thead>\n",
       "    <tr style=\"text-align: right;\">\n",
       "      <th></th>\n",
       "      <th>0</th>\n",
       "      <th>1</th>\n",
       "      <th>2</th>\n",
       "      <th>3</th>\n",
       "    </tr>\n",
       "  </thead>\n",
       "  <tbody>\n",
       "    <tr>\n",
       "      <th>0</th>\n",
       "      <td>A1YS9MDZP93857</td>\n",
       "      <td>0006428320</td>\n",
       "      <td>3.0</td>\n",
       "      <td>1394496000</td>\n",
       "    </tr>\n",
       "    <tr>\n",
       "      <th>1</th>\n",
       "      <td>A3TS466QBAWB9D</td>\n",
       "      <td>0014072149</td>\n",
       "      <td>5.0</td>\n",
       "      <td>1370476800</td>\n",
       "    </tr>\n",
       "    <tr>\n",
       "      <th>2</th>\n",
       "      <td>A3BUDYITWUSIS7</td>\n",
       "      <td>0041291905</td>\n",
       "      <td>5.0</td>\n",
       "      <td>1381708800</td>\n",
       "    </tr>\n",
       "    <tr>\n",
       "      <th>3</th>\n",
       "      <td>A19K10Z0D2NTZK</td>\n",
       "      <td>0041913574</td>\n",
       "      <td>5.0</td>\n",
       "      <td>1285200000</td>\n",
       "    </tr>\n",
       "    <tr>\n",
       "      <th>4</th>\n",
       "      <td>A14X336IB4JD89</td>\n",
       "      <td>0201891859</td>\n",
       "      <td>1.0</td>\n",
       "      <td>1350432000</td>\n",
       "    </tr>\n",
       "  </tbody>\n",
       "</table>\n",
       "</div>"
      ],
      "text/plain": [
       "                0           1    2           3\n",
       "0  A1YS9MDZP93857  0006428320  3.0  1394496000\n",
       "1  A3TS466QBAWB9D  0014072149  5.0  1370476800\n",
       "2  A3BUDYITWUSIS7  0041291905  5.0  1381708800\n",
       "3  A19K10Z0D2NTZK  0041913574  5.0  1285200000\n",
       "4  A14X336IB4JD89  0201891859  1.0  1350432000"
      ]
     },
     "execution_count": 2,
     "metadata": {
      "tags": []
     },
     "output_type": "execute_result"
    }
   ],
   "source": [
    "df=pd.read_csv('ratings_Musical_Instruments.csv',header=None, nrows=12000)  #Reading csv file of data\n",
    "df.head()"
   ]
  },
  {
   "cell_type": "code",
   "execution_count": 0,
   "metadata": {
    "colab": {},
    "colab_type": "code",
    "id": "GH-4CMix0AAj",
    "outputId": "cf79430f-3e26-4201-948d-75a3630da468"
   },
   "outputs": [
    {
     "data": {
      "text/plain": [
       "(12000, 4)"
      ]
     },
     "execution_count": 3,
     "metadata": {
      "tags": []
     },
     "output_type": "execute_result"
    }
   ],
   "source": [
    "df.shape  #displaying shape of data stored in dataframe"
   ]
  },
  {
   "cell_type": "markdown",
   "metadata": {
    "colab_type": "text",
    "id": "Vhq0gCEo0AAm"
   },
   "source": [
    "# Getting unique number of users,items and ratings"
   ]
  },
  {
   "cell_type": "code",
   "execution_count": 0,
   "metadata": {
    "colab": {},
    "colab_type": "code",
    "id": "mP8T8K0Z0AAn",
    "outputId": "89cf988f-80c3-4abd-ae26-4faaba403fbc"
   },
   "outputs": [
    {
     "name": "stdout",
     "output_type": "stream",
     "text": [
      "10491 unique users\n",
      "3183 unique items\n",
      "5 unique ratings\n"
     ]
    }
   ],
   "source": [
    "n_users= df[0].unique().shape[0]   #Getting unique number of users from the dataframe\n",
    "n_items = df[1].unique().shape[0]  #Getting unique number of items to which rating is given from the dataframe\n",
    "n_rating = df[2].unique().shape[0] #Getting unique number of ratings from the dataframe\n",
    "\n",
    "#Displaying number of unique users,items and ratings\n",
    "print ('%i unique users' %n_users)\n",
    "print ('%i unique items' %n_items)\n",
    "print ('%i unique ratings' %n_rating)"
   ]
  },
  {
   "cell_type": "markdown",
   "metadata": {
    "colab_type": "text",
    "id": "OWjcS3Gx0AAq"
   },
   "source": [
    "# Creating ratings matrix"
   ]
  },
  {
   "cell_type": "code",
   "execution_count": 0,
   "metadata": {
    "colab": {},
    "colab_type": "code",
    "id": "r5kHBQLz0AAq"
   },
   "outputs": [],
   "source": [
    "ratings=df.pivot(index=0, columns=1, values=2)  #Creating a ratings matrix comprising of users and items"
   ]
  },
  {
   "cell_type": "code",
   "execution_count": 0,
   "metadata": {
    "colab": {},
    "colab_type": "code",
    "id": "q9l2CRvD0AAt"
   },
   "outputs": [],
   "source": [
    "ratings = ratings.fillna(0)  #Filling the matrix initially with 0 values"
   ]
  },
  {
   "cell_type": "code",
   "execution_count": 0,
   "metadata": {
    "colab": {},
    "colab_type": "code",
    "id": "O4sECfvJ0AAw"
   },
   "outputs": [],
   "source": [
    "ratings = ratings.to_numpy()  #Converting to numpy array"
   ]
  },
  {
   "cell_type": "code",
   "execution_count": 0,
   "metadata": {
    "colab": {},
    "colab_type": "code",
    "id": "Wd3KU5OX0AA1",
    "outputId": "3a055e10-f7e7-4a3d-a140-f325fb6aae92"
   },
   "outputs": [
    {
     "data": {
      "text/plain": [
       "(10491, 3183)"
      ]
     },
     "execution_count": 8,
     "metadata": {
      "tags": []
     },
     "output_type": "execute_result"
    }
   ],
   "source": [
    "ratings.shape  #Displaying shape of ratings numpy array"
   ]
  },
  {
   "cell_type": "markdown",
   "metadata": {
    "colab_type": "text",
    "id": "Y7F17p8h0AA4"
   },
   "source": [
    "# Calculating sparsity of ratings matrix"
   ]
  },
  {
   "cell_type": "code",
   "execution_count": 0,
   "metadata": {
    "colab": {},
    "colab_type": "code",
    "id": "4OrxCXFx0AA4",
    "outputId": "d74d5665-69da-4fe7-9ad6-dcb1bfd57eab"
   },
   "outputs": [
    {
     "name": "stdout",
     "output_type": "stream",
     "text": [
      "percentage of user-items that have a rating: 0.04%\n"
     ]
    }
   ],
   "source": [
    "sparsity = float(len(ratings.nonzero()[0]))  #Getting number of non-zero ratings\n",
    "sparsity /= (ratings.shape[0] * ratings.shape[1])  #Calculating the value of sparsity\n",
    "sparsity *= 100  #Calculating sparsity percentage\n",
    "print ('percentage of user-items that have a rating: {:.2f}%'.format(sparsity))  #Displaying percentage of user items having a rating"
   ]
  },
  {
   "cell_type": "markdown",
   "metadata": {
    "colab_type": "text",
    "id": "Uadlelb80AA6"
   },
   "source": [
    "# Splitting data for training and testing"
   ]
  },
  {
   "cell_type": "code",
   "execution_count": 0,
   "metadata": {
    "colab": {},
    "colab_type": "code",
    "id": "5keumCzQ0AA7"
   },
   "outputs": [],
   "source": [
    "def train_test_split(ratings):\n",
    "    \n",
    "    validation = np.zeros(ratings.shape)  #Defining an array for validation data\n",
    "    train = ratings.copy()  #copying the ratings matrix to train \n",
    "    \n",
    "    for user in np.arange(ratings.shape[0]):  #For loop for the number of users\n",
    "        if len(ratings[user,:].nonzero()[0])>=35:  #35 seems to be best, it depends on sparsity of your user-item matrix\n",
    "            val_ratings = np.random.choice(ratings[user, :].nonzero()[0], \n",
    "                                        size=15,  #15 seems to be optimal\n",
    "                                        replace=False)  #Taking data for validation set from ratings\n",
    "            train[user, val_ratings] = 0  \n",
    "            validation[user, val_ratings] = ratings[user, val_ratings]\n",
    "    \n",
    "    return train, validation"
   ]
  },
  {
   "cell_type": "code",
   "execution_count": 0,
   "metadata": {
    "colab": {},
    "colab_type": "code",
    "id": "FoAwNixZ0AA-"
   },
   "outputs": [],
   "source": [
    "train, val = train_test_split(ratings)"
   ]
  },
  {
   "cell_type": "code",
   "execution_count": 0,
   "metadata": {
    "colab": {},
    "colab_type": "code",
    "id": "EHZVlbMg0ABA"
   },
   "outputs": [],
   "source": [
    "from numpy import linalg as LA  #importing linear algebra method from numpy library"
   ]
  },
  {
   "cell_type": "markdown",
   "metadata": {
    "colab_type": "text",
    "id": "IXWETgRy0ABE"
   },
   "source": [
    "# Prediction function"
   ]
  },
  {
   "cell_type": "code",
   "execution_count": 0,
   "metadata": {
    "colab": {},
    "colab_type": "code",
    "id": "-qZ-LPYK0ABF"
   },
   "outputs": [],
   "source": [
    "#P is latent user feature matrix\n",
    "#Q is latent item feature matrix\n",
    "def prediction(P,Q):\n",
    "    return np.dot(P.T,Q)  #Returning the predicted matrix"
   ]
  },
  {
   "cell_type": "markdown",
   "metadata": {
    "colab_type": "text",
    "id": "lxlbwOI80ABI"
   },
   "source": [
    "# Defining a latent user and feature matrix"
   ]
  },
  {
   "cell_type": "code",
   "execution_count": 0,
   "metadata": {
    "colab": {},
    "colab_type": "code",
    "id": "HcNXRdMn0ABI"
   },
   "outputs": [],
   "source": [
    "lmbda = 0.4 # Regularization parameter\n",
    "k = 3 #Factor parameter\n",
    "m, n = train.shape  # Number of users and items\n",
    "n_epochs = 100  # Number of epochs\n",
    "alpha=0.01  # Learning rate\n",
    "\n",
    "P = 3 * np.random.rand(k,m) # Latent user feature matrix\n",
    "Q = 3 * np.random.rand(k,n) # Latent movie feature matrix"
   ]
  },
  {
   "cell_type": "code",
   "execution_count": 0,
   "metadata": {
    "colab": {},
    "colab_type": "code",
    "id": "xoU_Iymi0ABL",
    "outputId": "c34e6fea-b51c-42ac-f076-2ebb663be5f4"
   },
   "outputs": [
    {
     "data": {
      "text/plain": [
       "(10491, 3183)"
      ]
     },
     "execution_count": 15,
     "metadata": {
      "tags": []
     },
     "output_type": "execute_result"
    }
   ],
   "source": [
    "train.shape  #Displaying shape of training data"
   ]
  },
  {
   "cell_type": "markdown",
   "metadata": {
    "colab_type": "text",
    "id": "ZR7dbVFb0ABN"
   },
   "source": [
    "# Root mean square error function"
   ]
  },
  {
   "cell_type": "markdown",
   "metadata": {
    "colab_type": "text",
    "id": "W3FlX91h0ABO"
   },
   "source": [
    "<br>\n",
    "<br>\n",
    "<img src = \"rmse.png\">\n",
    "<br>\n",
    "<br>"
   ]
  },
  {
   "cell_type": "code",
   "execution_count": 0,
   "metadata": {
    "colab": {},
    "colab_type": "code",
    "id": "IXZkRuBu0ABP"
   },
   "outputs": [],
   "source": [
    "#importing libraries for using inbuilt functions\n",
    "from sklearn.metrics import mean_squared_error\n",
    "from math import sqrt\n",
    "\n",
    "#Function to find root-mean-square-error\n",
    "def rmse(prediction, ground_truth):\n",
    "    prediction = prediction[ground_truth.nonzero()].flatten()   #Predicted values\n",
    "    ground_truth = ground_truth[ground_truth.nonzero()].flatten()  #Original values\n",
    "    return sqrt(mean_squared_error(prediction, ground_truth))  #Returning error of predicted values from original values"
   ]
  },
  {
   "cell_type": "markdown",
   "metadata": {
    "colab_type": "text",
    "id": "xmXmCxzM0ABS"
   },
   "source": [
    "# Performing Stochastic Gradient update"
   ]
  },
  {
   "cell_type": "markdown",
   "metadata": {
    "colab_type": "text",
    "id": "pReiM9A00ABT"
   },
   "source": [
    "<center> Prediction error </center>\n",
    "<img src = \"error.png\">\n",
    "<center> Gradient update rule </center>\n",
    "<img src = \"sgd.png\">"
   ]
  },
  {
   "cell_type": "code",
   "execution_count": 0,
   "metadata": {
    "colab": {},
    "colab_type": "code",
    "id": "BtIo7coy0ABU"
   },
   "outputs": [],
   "source": [
    "train_errors = []\n",
    "val_errors = []\n",
    "\n",
    "#Only consider items with ratings \n",
    "users,items = train.nonzero()    \n",
    "\n",
    "#Iterating over 100 epochs to minimise the error by updating the parameters\n",
    "for epoch in range(n_epochs):\n",
    "    for u, i in zip(users,items):\n",
    "        e = train[u, i] - prediction(P[:,u],Q[:,i])  # Calculate error for gradient update\n",
    "        P[:,u] += alpha * ( e * Q[:,i] - lmbda * P[:,u]) # Update latent user feature matrix\n",
    "        Q[:,i] += alpha * ( e * P[:,u] - lmbda * Q[:,i])  # Update latent item feature matrix\n",
    "    \n",
    "    train_rmse = rmse(prediction(P,Q),train)  #Getting error for training data\n",
    "    val_rmse = rmse(prediction(P,Q),val)  #Getting error for validation data\n",
    "    train_errors.append(train_rmse)  #Storing value of training errors\n",
    "    val_errors.append(val_rmse)  #Storing value of validation errors"
   ]
  },
  {
   "cell_type": "markdown",
   "metadata": {
    "colab_type": "text",
    "id": "_lcvpCpM0ABW"
   },
   "source": [
    "# Plotting Training and Validation Loss Curve"
   ]
  },
  {
   "cell_type": "code",
   "execution_count": 0,
   "metadata": {
    "colab": {},
    "colab_type": "code",
    "id": "i3MP9bj_0ABW",
    "outputId": "3b9769b1-04f2-4a40-e72e-65f9481208e0"
   },
   "outputs": [
    {
     "data": {
      "image/png": "[encoded data removed]",
      "text/plain": [
       "<Figure size 432x288 with 1 Axes>"
      ]
     },
     "metadata": {
      "needs_background": "light",
      "tags": []
     },
     "output_type": "display_data"
    }
   ],
   "source": [
    "#importing library for plotting\n",
    "import matplotlib.pyplot as plt\n",
    "%matplotlib inline\n",
    "\n",
    "plt.plot(range(n_epochs), train_errors, marker='o', label='Training Data');  #For training errors\n",
    "plt.plot(range(n_epochs), val_errors, marker='v', label='Validation Data');  #For validation errors\n",
    "plt.xlabel('Number of Epochs');  # x-label\n",
    "plt.ylabel('RMSE');  # y-label\n",
    "plt.legend()\n",
    "plt.grid()\n",
    "plt.show()  #plot"
   ]
  },
  {
   "cell_type": "markdown",
   "metadata": {
    "colab_type": "text",
    "id": "Cjlkp2QK0ABZ"
   },
   "source": [
    "# Calling Prediction function"
   ]
  },
  {
   "cell_type": "code",
   "execution_count": 0,
   "metadata": {
    "colab": {},
    "colab_type": "code",
    "id": "ns9xQkn_0ABZ"
   },
   "outputs": [],
   "source": [
    "SGD_prediction=prediction(P,Q)  #calling the function for prediction"
   ]
  },
  {
   "cell_type": "code",
   "execution_count": 0,
   "metadata": {
    "colab": {},
    "colab_type": "code",
    "id": "oqSzsiaH0ABb"
   },
   "outputs": [],
   "source": [
    "estimation= SGD_prediction[val.nonzero()]  #Getting estimated value\n",
    "ground_truth = val[val.nonzero()]  #Getting original value\n",
    "results=pd.DataFrame({'prediction':estimation, 'actual rating':ground_truth})  #Creating a dataframe for prediction and original values"
   ]
  },
  {
   "cell_type": "markdown",
   "metadata": {
    "colab_type": "text",
    "id": "_EnfCdGe0ABe"
   },
   "source": [
    "# Displaying predicted matrix"
   ]
  },
  {
   "cell_type": "code",
   "execution_count": 0,
   "metadata": {
    "colab": {},
    "colab_type": "code",
    "id": "0Tk4GnDC0ABe",
    "outputId": "b17630fd-fc60-412e-a5c8-27b79e4c8367"
   },
   "outputs": [
    {
     "data": {
      "text/html": [
       "<div>\n",
       "<style scoped>\n",
       "    .dataframe tbody tr th:only-of-type {\n",
       "        vertical-align: middle;\n",
       "    }\n",
       "\n",
       "    .dataframe tbody tr th {\n",
       "        vertical-align: top;\n",
       "    }\n",
       "\n",
       "    .dataframe thead th {\n",
       "        text-align: right;\n",
       "    }\n",
       "</style>\n",
       "<table border=\"1\" class=\"dataframe\">\n",
       "  <thead>\n",
       "    <tr style=\"text-align: right;\">\n",
       "      <th></th>\n",
       "      <th>prediction</th>\n",
       "      <th>actual rating</th>\n",
       "    </tr>\n",
       "  </thead>\n",
       "  <tbody>\n",
       "    <tr>\n",
       "      <th>0</th>\n",
       "      <td>4.140077</td>\n",
       "      <td>4.0</td>\n",
       "    </tr>\n",
       "    <tr>\n",
       "      <th>1</th>\n",
       "      <td>5.483732</td>\n",
       "      <td>5.0</td>\n",
       "    </tr>\n",
       "    <tr>\n",
       "      <th>2</th>\n",
       "      <td>4.725747</td>\n",
       "      <td>4.0</td>\n",
       "    </tr>\n",
       "    <tr>\n",
       "      <th>3</th>\n",
       "      <td>3.750554</td>\n",
       "      <td>4.0</td>\n",
       "    </tr>\n",
       "    <tr>\n",
       "      <th>4</th>\n",
       "      <td>5.229607</td>\n",
       "      <td>5.0</td>\n",
       "    </tr>\n",
       "  </tbody>\n",
       "</table>\n",
       "</div>"
      ],
      "text/plain": [
       "   prediction  actual rating\n",
       "0    4.140077            4.0\n",
       "1    5.483732            5.0\n",
       "2    4.725747            4.0\n",
       "3    3.750554            4.0\n",
       "4    5.229607            5.0"
      ]
     },
     "execution_count": 21,
     "metadata": {
      "tags": []
     },
     "output_type": "execute_result"
    }
   ],
   "source": [
    "results.head()  #Displaying results"
   ]
  }
 ],
 "metadata": {
  "colab": {
   "name": "1741035_1741036_1741075_1741083_Collaborative_filtering_using_MF_with SGD.ipynb",
   "provenance": []
  },
  "kernelspec": {
   "display_name": "Python 3",
   "language": "python",
   "name": "python3"
  },
  "language_info": {
   "codemirror_mode": {
    "name": "ipython",
    "version": 3
   },
   "file_extension": ".py",
   "mimetype": "text/x-python",
   "name": "python",
   "nbconvert_exporter": "python",
   "pygments_lexer": "ipython3",
   "version": "3.8.1"
  }
 },
 "nbformat": 4,
 "nbformat_minor": 1
}
